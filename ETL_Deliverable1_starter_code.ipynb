{
 "cells": [
  {
   "cell_type": "code",
   "execution_count": 11,
   "metadata": {},
   "outputs": [
    {
     "name": "stderr",
     "output_type": "stream",
     "text": [
      "/Applications/anaconda3/lib/python3.8/site-packages/IPython/core/interactiveshell.py:3357: DtypeWarning: Columns (10) have mixed types.Specify dtype option on import or set low_memory=False.\n",
      "  if (await self.run_code(code, result,  async_=asy)):\n"
     ]
    },
    {
     "data": {
      "text/plain": [
       "('/Users/shikharrawat/Desktop/Bootcamp/Module 8/Movies_ETL/wikipedia.movies.json',\n",
       "        adult                              belongs_to_collection    budget  \\\n",
       " 0      False  {'id': 10194, 'name': 'Toy Story Collection', ...  30000000   \n",
       " 1      False                                                NaN  65000000   \n",
       " 2      False  {'id': 119050, 'name': 'Grumpy Old Men Collect...         0   \n",
       " 3      False                                                NaN  16000000   \n",
       " 4      False  {'id': 96871, 'name': 'Father of the Bride Col...         0   \n",
       " ...      ...                                                ...       ...   \n",
       " 45461  False                                                NaN         0   \n",
       " 45462  False                                                NaN         0   \n",
       " 45463  False                                                NaN         0   \n",
       " 45464  False                                                NaN         0   \n",
       " 45465  False                                                NaN         0   \n",
       " \n",
       "                                                   genres  \\\n",
       " 0      [{'id': 16, 'name': 'Animation'}, {'id': 35, '...   \n",
       " 1      [{'id': 12, 'name': 'Adventure'}, {'id': 14, '...   \n",
       " 2      [{'id': 10749, 'name': 'Romance'}, {'id': 35, ...   \n",
       " 3      [{'id': 35, 'name': 'Comedy'}, {'id': 18, 'nam...   \n",
       " 4                         [{'id': 35, 'name': 'Comedy'}]   \n",
       " ...                                                  ...   \n",
       " 45461  [{'id': 18, 'name': 'Drama'}, {'id': 10751, 'n...   \n",
       " 45462                      [{'id': 18, 'name': 'Drama'}]   \n",
       " 45463  [{'id': 28, 'name': 'Action'}, {'id': 18, 'nam...   \n",
       " 45464                                                 []   \n",
       " 45465                                                 []   \n",
       " \n",
       "                                    homepage      id    imdb_id  \\\n",
       " 0      http://toystory.disney.com/toy-story     862  tt0114709   \n",
       " 1                                       NaN    8844  tt0113497   \n",
       " 2                                       NaN   15602  tt0113228   \n",
       " 3                                       NaN   31357  tt0114885   \n",
       " 4                                       NaN   11862  tt0113041   \n",
       " ...                                     ...     ...        ...   \n",
       " 45461  http://www.imdb.com/title/tt6209470/  439050  tt6209470   \n",
       " 45462                                   NaN  111109  tt2028550   \n",
       " 45463                                   NaN   67758  tt0303758   \n",
       " 45464                                   NaN  227506  tt0008536   \n",
       " 45465                                   NaN  461257  tt6980792   \n",
       " \n",
       "       original_language               original_title  \\\n",
       " 0                    en                    Toy Story   \n",
       " 1                    en                      Jumanji   \n",
       " 2                    en             Grumpier Old Men   \n",
       " 3                    en            Waiting to Exhale   \n",
       " 4                    en  Father of the Bride Part II   \n",
       " ...                 ...                          ...   \n",
       " 45461                fa                      رگ خواب   \n",
       " 45462                tl          Siglo ng Pagluluwal   \n",
       " 45463                en                     Betrayal   \n",
       " 45464                en          Satana likuyushchiy   \n",
       " 45465                en                     Queerama   \n",
       " \n",
       "                                                 overview  ... release_date  \\\n",
       " 0      Led by Woody, Andy's toys live happily in his ...  ...   1995-10-30   \n",
       " 1      When siblings Judy and Peter discover an encha...  ...   1995-12-15   \n",
       " 2      A family wedding reignites the ancient feud be...  ...   1995-12-22   \n",
       " 3      Cheated on, mistreated and stepped on, the wom...  ...   1995-12-22   \n",
       " 4      Just when George Banks has recovered from his ...  ...   1995-02-10   \n",
       " ...                                                  ...  ...          ...   \n",
       " 45461        Rising and falling between a man and woman.  ...          NaN   \n",
       " 45462  An artist struggles to finish his work while a...  ...   2011-11-17   \n",
       " 45463  When one of her hits goes wrong, a professiona...  ...   2003-08-01   \n",
       " 45464  In a small town live two brothers, one a minis...  ...   1917-10-21   \n",
       " 45465  50 years after decriminalisation of homosexual...  ...   2017-06-09   \n",
       " \n",
       "            revenue runtime                                   spoken_languages  \\\n",
       " 0      373554033.0    81.0           [{'iso_639_1': 'en', 'name': 'English'}]   \n",
       " 1      262797249.0   104.0  [{'iso_639_1': 'en', 'name': 'English'}, {'iso...   \n",
       " 2              0.0   101.0           [{'iso_639_1': 'en', 'name': 'English'}]   \n",
       " 3       81452156.0   127.0           [{'iso_639_1': 'en', 'name': 'English'}]   \n",
       " 4       76578911.0   106.0           [{'iso_639_1': 'en', 'name': 'English'}]   \n",
       " ...            ...     ...                                                ...   \n",
       " 45461          0.0    90.0             [{'iso_639_1': 'fa', 'name': 'فارسی'}]   \n",
       " 45462          0.0   360.0                  [{'iso_639_1': 'tl', 'name': ''}]   \n",
       " 45463          0.0    90.0           [{'iso_639_1': 'en', 'name': 'English'}]   \n",
       " 45464          0.0    87.0                                                 []   \n",
       " 45465          0.0    75.0           [{'iso_639_1': 'en', 'name': 'English'}]   \n",
       " \n",
       "          status                                            tagline  \\\n",
       " 0      Released                                                NaN   \n",
       " 1      Released          Roll the dice and unleash the excitement!   \n",
       " 2      Released  Still Yelling. Still Fighting. Still Ready for...   \n",
       " 3      Released  Friends are the people who let you be yourself...   \n",
       " 4      Released  Just When His World Is Back To Normal... He's ...   \n",
       " ...         ...                                                ...   \n",
       " 45461  Released         Rising and falling between a man and woman   \n",
       " 45462  Released                                                NaN   \n",
       " 45463  Released                             A deadly game of wits.   \n",
       " 45464  Released                                                NaN   \n",
       " 45465  Released                                                NaN   \n",
       " \n",
       "                              title  video vote_average vote_count  \n",
       " 0                        Toy Story  False          7.7     5415.0  \n",
       " 1                          Jumanji  False          6.9     2413.0  \n",
       " 2                 Grumpier Old Men  False          6.5       92.0  \n",
       " 3                Waiting to Exhale  False          6.1       34.0  \n",
       " 4      Father of the Bride Part II  False          5.7      173.0  \n",
       " ...                            ...    ...          ...        ...  \n",
       " 45461                       Subdue  False          4.0        1.0  \n",
       " 45462          Century of Birthing  False          9.0        3.0  \n",
       " 45463                     Betrayal  False          3.8        6.0  \n",
       " 45464             Satan Triumphant  False          0.0        0.0  \n",
       " 45465                     Queerama  False          0.0        0.0  \n",
       " \n",
       " [45466 rows x 24 columns],\n",
       "           userId  movieId  rating   timestamp\n",
       " 0              1      110     1.0  1425941529\n",
       " 1              1      147     4.5  1425942435\n",
       " 2              1      858     5.0  1425941523\n",
       " 3              1     1221     5.0  1425941546\n",
       " 4              1     1246     5.0  1425941556\n",
       " ...          ...      ...     ...         ...\n",
       " 26024284  270896    58559     5.0  1257031564\n",
       " 26024285  270896    60069     5.0  1257032032\n",
       " 26024286  270896    63082     4.5  1257031764\n",
       " 26024287  270896    64957     4.5  1257033990\n",
       " 26024288  270896    71878     2.0  1257031858\n",
       " \n",
       " [26024289 rows x 4 columns])"
      ]
     },
     "execution_count": 11,
     "metadata": {},
     "output_type": "execute_result"
    }
   ],
   "source": [
    "import json\n",
    "import pandas as pd\n",
    "import numpy as np\n",
    "import os\n",
    "\n",
    "import re\n",
    "\n",
    "from sqlalchemy import create_engine\n",
    "#import psycopg2\n",
    "\n",
    "# from config import db_password\n",
    "\n",
    "import time\n",
    "\n",
    "# 1. Create a function that takes in three arguments;\n",
    "# Wikipedia data, Kaggle metadata, and MovieLens rating data (from Kaggle)\n",
    "\n",
    "def extract_transform_load(wiki_file, kaggle_file, ratings_file):\n",
    "    # 2. Read in the kaggle metadata and MovieLens ratings CSV files as Pandas DataFrames.\n",
    "    movies = os.path.join(\"movies_metadata.csv\")\n",
    "    rating = os.path.join(\"ratings.csv\")\n",
    "    kaggle_metadata = pd.read_csv(movies)\n",
    "    ratings = pd.read_csv(rating)\n",
    "\n",
    "    # 3. Open the read the Wikipedia data JSON file.\n",
    "    file_wiki = os.path.join(\"wikipedia-movies.json\")\n",
    "    with open(file_wiki, mode='r') as file:\n",
    "        wiki_movies_raw = json.load(file)\n",
    "    # 4. Read in the raw wiki movie data as a Pandas DataFrame.\n",
    "    wiki_reading = pd.read_json(file_wiki)\n",
    "    len(wiki_reading)\n",
    "    # 5. Return the three DataFrames\n",
    "    return wiki_movies_df, kaggle_metadata, ratings\n",
    "\n",
    "# 6 Create the path to your file directory and variables for the three files. \n",
    "file_dir = \"/Users/shikharrawat/Desktop/Bootcamp/Module 8/Movies_ETL\"\n",
    "# Wikipedia data\n",
    "wiki_file = f'{file_dir}/wikipedia.movies.json'\n",
    "# Kaggle metadata\n",
    "kaggle_file = f'{file_dir}/movies_metadata.csv'\n",
    "# MovieLens rating data.\n",
    "ratings_file = f'{file_dir}/ratings.csv'\n",
    "\n",
    "# 7. Set the three variables in Step 6 equal to the function created in Step 1.\n",
    "extract_transform_load(wiki_file, kaggle_file, ratings_file)"
   ]
  },
  {
   "cell_type": "code",
   "execution_count": 15,
   "metadata": {},
   "outputs": [
    {
     "ename": "ValueError",
     "evalue": "DataFrame constructor not properly called!",
     "output_type": "error",
     "traceback": [
      "\u001b[0;31m---------------------------------------------------------------------------\u001b[0m",
      "\u001b[0;31mValueError\u001b[0m                                Traceback (most recent call last)",
      "\u001b[0;32m<ipython-input-15-4184c9a6e9a5>\u001b[0m in \u001b[0;36m<module>\u001b[0;34m\u001b[0m\n\u001b[1;32m      1\u001b[0m \u001b[0;31m# 8. Set the DataFrames from the return statement equal to the file names in Step 6.\u001b[0m\u001b[0;34m\u001b[0m\u001b[0;34m\u001b[0m\u001b[0;34m\u001b[0m\u001b[0m\n\u001b[0;32m----> 2\u001b[0;31m \u001b[0mwiki_movies_df\u001b[0m \u001b[0;34m=\u001b[0m \u001b[0mpd\u001b[0m\u001b[0;34m.\u001b[0m\u001b[0mDataFrame\u001b[0m\u001b[0;34m(\u001b[0m\u001b[0mwiki_file\u001b[0m\u001b[0;34m)\u001b[0m\u001b[0;34m\u001b[0m\u001b[0;34m\u001b[0m\u001b[0m\n\u001b[0m\u001b[1;32m      3\u001b[0m \u001b[0mkaggle_metadata\u001b[0m \u001b[0;34m=\u001b[0m \u001b[0mpd\u001b[0m\u001b[0;34m.\u001b[0m\u001b[0mDataFrame\u001b[0m\u001b[0;34m(\u001b[0m\u001b[0mkaggle_file\u001b[0m\u001b[0;34m)\u001b[0m\u001b[0;34m\u001b[0m\u001b[0;34m\u001b[0m\u001b[0m\n\u001b[1;32m      4\u001b[0m \u001b[0mratings\u001b[0m \u001b[0;34m=\u001b[0m \u001b[0mpd\u001b[0m\u001b[0;34m.\u001b[0m\u001b[0mDataFrame\u001b[0m\u001b[0;34m(\u001b[0m\u001b[0mratings_file\u001b[0m\u001b[0;34m)\u001b[0m\u001b[0;34m\u001b[0m\u001b[0;34m\u001b[0m\u001b[0m\n",
      "\u001b[0;32m/Applications/anaconda3/lib/python3.8/site-packages/pandas/core/frame.py\u001b[0m in \u001b[0;36m__init__\u001b[0;34m(self, data, index, columns, dtype, copy)\u001b[0m\n\u001b[1;32m    588\u001b[0m         \u001b[0;32melse\u001b[0m\u001b[0;34m:\u001b[0m\u001b[0;34m\u001b[0m\u001b[0;34m\u001b[0m\u001b[0m\n\u001b[1;32m    589\u001b[0m             \u001b[0;32mif\u001b[0m \u001b[0mindex\u001b[0m \u001b[0;32mis\u001b[0m \u001b[0;32mNone\u001b[0m \u001b[0;32mor\u001b[0m \u001b[0mcolumns\u001b[0m \u001b[0;32mis\u001b[0m \u001b[0;32mNone\u001b[0m\u001b[0;34m:\u001b[0m\u001b[0;34m\u001b[0m\u001b[0;34m\u001b[0m\u001b[0m\n\u001b[0;32m--> 590\u001b[0;31m                 \u001b[0;32mraise\u001b[0m \u001b[0mValueError\u001b[0m\u001b[0;34m(\u001b[0m\u001b[0;34m\"DataFrame constructor not properly called!\"\u001b[0m\u001b[0;34m)\u001b[0m\u001b[0;34m\u001b[0m\u001b[0;34m\u001b[0m\u001b[0m\n\u001b[0m\u001b[1;32m    591\u001b[0m \u001b[0;34m\u001b[0m\u001b[0m\n\u001b[1;32m    592\u001b[0m             \u001b[0;32mif\u001b[0m \u001b[0;32mnot\u001b[0m \u001b[0mdtype\u001b[0m\u001b[0;34m:\u001b[0m\u001b[0;34m\u001b[0m\u001b[0;34m\u001b[0m\u001b[0m\n",
      "\u001b[0;31mValueError\u001b[0m: DataFrame constructor not properly called!"
     ]
    }
   ],
   "source": [
    "# 8. Set the DataFrames from the return statement equal to the file names in Step 6. \n",
    "wiki_movies_df = pd.DataFrame(wiki_file)\n",
    "kaggle_metadata = pd.DataFrame(kaggle_file)\n",
    "ratings = pd.DataFrame(ratings_file)"
   ]
  },
  {
   "cell_type": "code",
   "execution_count": 13,
   "metadata": {},
   "outputs": [
    {
     "ename": "AttributeError",
     "evalue": "'str' object has no attribute 'head'",
     "output_type": "error",
     "traceback": [
      "\u001b[0;31m---------------------------------------------------------------------------\u001b[0m",
      "\u001b[0;31mAttributeError\u001b[0m                            Traceback (most recent call last)",
      "\u001b[0;32m<ipython-input-13-000e2ee885ab>\u001b[0m in \u001b[0;36m<module>\u001b[0;34m\u001b[0m\n\u001b[1;32m      1\u001b[0m \u001b[0;31m# 9. Check the wiki_movies_df DataFrame.\u001b[0m\u001b[0;34m\u001b[0m\u001b[0;34m\u001b[0m\u001b[0;34m\u001b[0m\u001b[0m\n\u001b[0;32m----> 2\u001b[0;31m \u001b[0mwiki_movies_df\u001b[0m\u001b[0;34m.\u001b[0m\u001b[0mhead\u001b[0m\u001b[0;34m(\u001b[0m\u001b[0;34m)\u001b[0m\u001b[0;34m\u001b[0m\u001b[0;34m\u001b[0m\u001b[0m\n\u001b[0m",
      "\u001b[0;31mAttributeError\u001b[0m: 'str' object has no attribute 'head'"
     ]
    }
   ],
   "source": [
    "# 9. Check the wiki_movies_df DataFrame.\n",
    "wiki_movies_df.head()"
   ]
  },
  {
   "cell_type": "code",
   "execution_count": 4,
   "metadata": {},
   "outputs": [],
   "source": [
    "# 10. Check the kaggle_metadata DataFrame.\n",
    "kaggle_metadata.head()"
   ]
  },
  {
   "cell_type": "code",
   "execution_count": 5,
   "metadata": {},
   "outputs": [],
   "source": [
    "# 11. Check the ratings DataFrame.\n",
    "ratings.head()"
   ]
  },
  {
   "cell_type": "code",
   "execution_count": null,
   "metadata": {},
   "outputs": [],
   "source": []
  }
 ],
 "metadata": {
  "kernelspec": {
   "display_name": "PythonData",
   "language": "python",
   "name": "pythondata"
  },
  "language_info": {
   "codemirror_mode": {
    "name": "ipython",
    "version": 3
   },
   "file_extension": ".py",
   "mimetype": "text/x-python",
   "name": "python",
   "nbconvert_exporter": "python",
   "pygments_lexer": "ipython3",
   "version": "3.8.8"
  }
 },
 "nbformat": 4,
 "nbformat_minor": 2
}
